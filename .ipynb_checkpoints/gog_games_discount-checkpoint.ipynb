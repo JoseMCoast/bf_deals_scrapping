{
 "cells": [
  {
   "cell_type": "code",
   "execution_count": 1,
   "metadata": {},
   "outputs": [],
   "source": [
    "import pandas as pd\n",
    "import requests as r\n",
    "import time\n",
    "\n",
    "from bs4 import BeautifulSoup as bs\n",
    "from selenium import webdriver\n",
    "from webdriver_manager.chrome import ChromeDriverManager\n",
    "from selenium.webdriver.common.by import By\n",
    "from selenium.webdriver.support.ui import WebDriverWait\n",
    "from selenium.webdriver.support import expected_conditions as EC\n",
    "from selenium.webdriver import ActionChains as AC"
   ]
  },
  {
   "cell_type": "code",
   "execution_count": 3,
   "metadata": {},
   "outputs": [
    {
     "name": "stderr",
     "output_type": "stream",
     "text": [
      "\n",
      "\n",
      "====== WebDriver manager ======\n",
      "Current google-chrome version is 96.0.4664\n",
      "Get LATEST chromedriver version for 96.0.4664 google-chrome\n",
      "Trying to download new driver from https://chromedriver.storage.googleapis.com/96.0.4664.45/chromedriver_linux64.zip\n",
      "Driver has been saved in cache [/home/jmc/.wdm/drivers/chromedriver/linux64/96.0.4664.45]\n",
      "<ipython-input-3-f5c09198c7ef>:4: DeprecationWarning: executable_path has been deprecated, please pass in a Service object\n",
      "  driver=webdriver.Chrome(PATH)\n",
      "<ipython-input-3-f5c09198c7ef>:7: DeprecationWarning: find_element_by_* commands are deprecated. Please use find_element() instead\n",
      "  driver.find_element_by_xpath('//*[@id=\"CybotCookiebotDialogBodyLevelButtonLevelOptinAllowAll\"]').click()\n"
     ]
    }
   ],
   "source": [
    "PATH=ChromeDriverManager().install()   #'driver/chromedriver'\n",
    "url='https://www.gog.com/promo/black_friday_2021_rpg'\n",
    "\n",
    "driver=webdriver.Chrome(PATH)\n",
    "driver.get(url)\n",
    "time.sleep(3)\n",
    "driver.find_element_by_xpath('//*[@id=\"CybotCookiebotDialogBodyLevelButtonLevelOptinAllowAll\"]').click()\n",
    "html=driver.page_source\n",
    "driver.close()"
   ]
  },
  {
   "cell_type": "code",
   "execution_count": 4,
   "metadata": {},
   "outputs": [],
   "source": [
    "soup=bs(html, 'html.parser')\n",
    "product_names= [name.text for name in soup.find_all('span', class_='product-title__text')]\n",
    "product_category= [cat.text for cat in soup.find_all('span', class_='product-row__genre')]\n",
    "release_year= [y.text for y in soup.find_all('span', class_='product-row__date')]\n",
    "original_price= [op.text for op in soup.find_all('s', class_='product-row-price--old')]\n",
    "disc_price= [dp.text for dp in soup.find_all('b', class_='product-row-price--new')]"
   ]
  },
  {
   "cell_type": "code",
   "execution_count": 5,
   "metadata": {},
   "outputs": [],
   "source": [
    "discounts_df= pd.DataFrame({'game': product_names,\n",
    "                            'cat': product_category,\n",
    "                            'r_year': release_year,\n",
    "                            'price': original_price,\n",
    "                            'disc_price': disc_price})\n",
    "\n",
    "discounts_df['r_year'] = discounts_df['r_year'].astype('int')\n",
    "discounts_df['price'] = discounts_df['price'].astype('float')\n",
    "discounts_df['disc_price'] = discounts_df['disc_price'].astype('float')\n",
    "discounts_df['pct_discounted'] = round((discounts_df['price']-discounts_df['disc_price'])/discounts_df['price']*100,0).astype('int')"
   ]
  },
  {
   "cell_type": "code",
   "execution_count": 6,
   "metadata": {},
   "outputs": [
    {
     "data": {
      "text/html": [
       "<div>\n",
       "<style scoped>\n",
       "    .dataframe tbody tr th:only-of-type {\n",
       "        vertical-align: middle;\n",
       "    }\n",
       "\n",
       "    .dataframe tbody tr th {\n",
       "        vertical-align: top;\n",
       "    }\n",
       "\n",
       "    .dataframe thead th {\n",
       "        text-align: right;\n",
       "    }\n",
       "</style>\n",
       "<table border=\"1\" class=\"dataframe\">\n",
       "  <thead>\n",
       "    <tr style=\"text-align: right;\">\n",
       "      <th></th>\n",
       "      <th>game</th>\n",
       "      <th>cat</th>\n",
       "      <th>r_year</th>\n",
       "      <th>price</th>\n",
       "      <th>disc_price</th>\n",
       "      <th>pct_discounted</th>\n",
       "    </tr>\n",
       "  </thead>\n",
       "  <tbody>\n",
       "    <tr>\n",
       "      <th>0</th>\n",
       "      <td>Cyberpunk 2077</td>\n",
       "      <td>Role-playing</td>\n",
       "      <td>2020</td>\n",
       "      <td>59.99</td>\n",
       "      <td>29.99</td>\n",
       "      <td>50</td>\n",
       "    </tr>\n",
       "    <tr>\n",
       "      <th>1</th>\n",
       "      <td>Divinity: Original Sin 2 - Definitive Edition</td>\n",
       "      <td>Role-playing</td>\n",
       "      <td>2017</td>\n",
       "      <td>44.99</td>\n",
       "      <td>17.99</td>\n",
       "      <td>60</td>\n",
       "    </tr>\n",
       "    <tr>\n",
       "      <th>2</th>\n",
       "      <td>Disco Elysium - The Final Cut</td>\n",
       "      <td>Role-playing</td>\n",
       "      <td>2019</td>\n",
       "      <td>39.99</td>\n",
       "      <td>19.99</td>\n",
       "      <td>50</td>\n",
       "    </tr>\n",
       "    <tr>\n",
       "      <th>3</th>\n",
       "      <td>Pillars of Eternity II: Deadfire - Obsidian Ed...</td>\n",
       "      <td>Role-playing</td>\n",
       "      <td>2018</td>\n",
       "      <td>59.99</td>\n",
       "      <td>15.00</td>\n",
       "      <td>75</td>\n",
       "    </tr>\n",
       "    <tr>\n",
       "      <th>4</th>\n",
       "      <td>Baldur's Gate II: Enhanced Edition</td>\n",
       "      <td>Role-playing</td>\n",
       "      <td>2013</td>\n",
       "      <td>17.79</td>\n",
       "      <td>3.59</td>\n",
       "      <td>80</td>\n",
       "    </tr>\n",
       "  </tbody>\n",
       "</table>\n",
       "</div>"
      ],
      "text/plain": [
       "                                                game           cat  r_year  \\\n",
       "0                                     Cyberpunk 2077  Role-playing    2020   \n",
       "1      Divinity: Original Sin 2 - Definitive Edition  Role-playing    2017   \n",
       "2                      Disco Elysium - The Final Cut  Role-playing    2019   \n",
       "3  Pillars of Eternity II: Deadfire - Obsidian Ed...  Role-playing    2018   \n",
       "4                 Baldur's Gate II: Enhanced Edition  Role-playing    2013   \n",
       "\n",
       "   price  disc_price  pct_discounted  \n",
       "0  59.99       29.99              50  \n",
       "1  44.99       17.99              60  \n",
       "2  39.99       19.99              50  \n",
       "3  59.99       15.00              75  \n",
       "4  17.79        3.59              80  "
      ]
     },
     "execution_count": 6,
     "metadata": {},
     "output_type": "execute_result"
    }
   ],
   "source": [
    "discounts_df.head()"
   ]
  },
  {
   "cell_type": "code",
   "execution_count": 9,
   "metadata": {},
   "outputs": [],
   "source": [
    "url_games = []\n",
    "\n",
    "for game in discounts_df['game']:\n",
    "    url_games.append(f\"https://www.metacritic.com/game/pc/{game.replace(' - ', '-').replace(' ', '-').lower()}\")"
   ]
  },
  {
   "cell_type": "code",
   "execution_count": 12,
   "metadata": {},
   "outputs": [
    {
     "name": "stderr",
     "output_type": "stream",
     "text": [
      "<ipython-input-12-df927a591ae7>:5: DeprecationWarning: executable_path has been deprecated, please pass in a Service object\n",
      "  driver=webdriver.Chrome(PATH)\n",
      "<ipython-input-12-df927a591ae7>:8: DeprecationWarning: find_element_by_* commands are deprecated. Please use find_element() instead\n",
      "  driver.find_element_by_xpath('//*[@id=\"onetrust-reject-all-handler\"]').click()\n"
     ]
    },
    {
     "ename": "AttributeError",
     "evalue": "'NoneType' object has no attribute 'find_all'",
     "output_type": "error",
     "traceback": [
      "\u001b[0;31m---------------------------------------------------------------------------\u001b[0m",
      "\u001b[0;31mAttributeError\u001b[0m                            Traceback (most recent call last)",
      "\u001b[0;32m<ipython-input-12-df927a591ae7>\u001b[0m in \u001b[0;36m<module>\u001b[0;34m\u001b[0m\n\u001b[1;32m     11\u001b[0m     \u001b[0msoup\u001b[0m\u001b[0;34m=\u001b[0m\u001b[0mbs\u001b[0m\u001b[0;34m(\u001b[0m\u001b[0mhtml\u001b[0m\u001b[0;34m,\u001b[0m \u001b[0;34m'html.parser'\u001b[0m\u001b[0;34m)\u001b[0m\u001b[0;34m\u001b[0m\u001b[0;34m\u001b[0m\u001b[0m\n\u001b[1;32m     12\u001b[0m     \u001b[0muser_score\u001b[0m\u001b[0;34m=\u001b[0m\u001b[0msoup\u001b[0m\u001b[0;34m.\u001b[0m\u001b[0mfind\u001b[0m\u001b[0;34m(\u001b[0m\u001b[0;34m'div'\u001b[0m\u001b[0;34m,\u001b[0m \u001b[0mclass_\u001b[0m\u001b[0;34m=\u001b[0m\u001b[0;34m'userscore_wrap feature_userscore'\u001b[0m\u001b[0;34m)\u001b[0m\u001b[0;34m\u001b[0m\u001b[0;34m\u001b[0m\u001b[0m\n\u001b[0;32m---> 13\u001b[0;31m     \u001b[0mgame_scores\u001b[0m\u001b[0;34m.\u001b[0m\u001b[0mappend\u001b[0m\u001b[0;34m(\u001b[0m\u001b[0muser_score\u001b[0m\u001b[0;34m.\u001b[0m\u001b[0mfind_all\u001b[0m\u001b[0;34m(\u001b[0m\u001b[0;34m'div'\u001b[0m\u001b[0;34m)\u001b[0m\u001b[0;34m[\u001b[0m\u001b[0;36m1\u001b[0m\u001b[0;34m]\u001b[0m\u001b[0;34m.\u001b[0m\u001b[0mtext\u001b[0m\u001b[0;34m)\u001b[0m\u001b[0;34m\u001b[0m\u001b[0;34m\u001b[0m\u001b[0m\n\u001b[0m\u001b[1;32m     14\u001b[0m \u001b[0;34m\u001b[0m\u001b[0m\n\u001b[1;32m     15\u001b[0m \u001b[0mdriver\u001b[0m\u001b[0;34m.\u001b[0m\u001b[0mclose\u001b[0m\u001b[0;34m(\u001b[0m\u001b[0;34m)\u001b[0m\u001b[0;34m\u001b[0m\u001b[0;34m\u001b[0m\u001b[0m\n",
      "\u001b[0;31mAttributeError\u001b[0m: 'NoneType' object has no attribute 'find_all'"
     ]
    }
   ],
   "source": [
    "game_scores = []\n",
    "headers = {'User-Agent': 'Mozilla/5.0 (Windows NT 6.1; WOW64) AppleWebKit/537.36 (KHTML, like Gecko) Chrome/56.0.2924.76 Safari/537.36'}\n",
    "\n",
    "\n",
    "try:\n",
    "    \n",
    "    for game in url_games:\n",
    "        driver=webdriver.Chrome(PATH)\n",
    "        driver.get(game)\n",
    "        time.sleep(3)\n",
    "        driver.find_element_by_xpath('//*[@id=\"onetrust-reject-all-handler\"]').click()\n",
    "        time.sleep(3)\n",
    "        html=driver.page_source\n",
    "        soup=bs(html, 'html.parser')\n",
    "        user_score=soup.find('div', class_='userscore_wrap feature_userscore')\n",
    "        game_scores.append(user_score.find_all('div')[1].text)\n",
    "\n",
    "except:\n",
    "    game_scores.append(-1)\n",
    "    \n",
    "driver.close()"
   ]
  },
  {
   "cell_type": "code",
   "execution_count": 141,
   "metadata": {},
   "outputs": [],
   "source": [
    "url=\"https://www.metacritic.com/game/pc/cyberpunk-2077\"\n",
    "html=r.get(url, headers=headers).text\n",
    "soup=bs(html, 'html.parser')\n",
    "user_score=soup.find('div', class_='userscore_wrap feature_userscore')"
   ]
  },
  {
   "cell_type": "code",
   "execution_count": 147,
   "metadata": {},
   "outputs": [
    {
     "data": {
      "text/plain": [
       "'7.1'"
      ]
     },
     "execution_count": 147,
     "metadata": {},
     "output_type": "execute_result"
    }
   ],
   "source": [
    "user_score.find_all('div')[1].text"
   ]
  },
  {
   "cell_type": "code",
   "execution_count": null,
   "metadata": {},
   "outputs": [],
   "source": []
  }
 ],
 "metadata": {
  "kernelspec": {
   "display_name": "Python 3",
   "language": "python",
   "name": "python3"
  },
  "language_info": {
   "codemirror_mode": {
    "name": "ipython",
    "version": 3
   },
   "file_extension": ".py",
   "mimetype": "text/x-python",
   "name": "python",
   "nbconvert_exporter": "python",
   "pygments_lexer": "ipython3",
   "version": "3.8.8"
  }
 },
 "nbformat": 4,
 "nbformat_minor": 4
}
