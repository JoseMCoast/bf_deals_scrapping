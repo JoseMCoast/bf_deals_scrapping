{
 "cells": [
  {
   "cell_type": "code",
   "execution_count": 41,
   "metadata": {},
   "outputs": [],
   "source": [
    "import pandas as pd\n",
    "import requests as r\n",
    "import time\n",
    "\n",
    "from bs4 import BeautifulSoup as bs\n",
    "from selenium import webdriver\n",
    "from webdriver_manager.chrome import ChromeDriverManager\n",
    "from selenium.webdriver.common.by import By\n",
    "from selenium.webdriver.support.ui import WebDriverWait\n",
    "from selenium.webdriver.support import expected_conditions as EC\n",
    "from selenium.webdriver import ActionChains as AC"
   ]
  },
  {
   "cell_type": "code",
   "execution_count": 42,
   "metadata": {},
   "outputs": [
    {
     "name": "stderr",
     "output_type": "stream",
     "text": [
      "\n",
      "\n",
      "====== WebDriver manager ======\n",
      "Current google-chrome version is 96.0.4664\n",
      "Get LATEST chromedriver version for 96.0.4664 google-chrome\n",
      "Driver [/home/jmc/.wdm/drivers/chromedriver/linux64/96.0.4664.45/chromedriver] found in cache\n",
      "<ipython-input-42-f5c09198c7ef>:4: DeprecationWarning: executable_path has been deprecated, please pass in a Service object\n",
      "  driver=webdriver.Chrome(PATH)\n",
      "<ipython-input-42-f5c09198c7ef>:7: DeprecationWarning: find_element_by_* commands are deprecated. Please use find_element() instead\n",
      "  driver.find_element_by_xpath('//*[@id=\"CybotCookiebotDialogBodyLevelButtonLevelOptinAllowAll\"]').click()\n"
     ]
    }
   ],
   "source": [
    "PATH=ChromeDriverManager().install()   #'driver/chromedriver'\n",
    "url='https://www.gog.com/promo/black_friday_2021_rpg'\n",
    "\n",
    "driver=webdriver.Chrome(PATH)\n",
    "driver.get(url)\n",
    "time.sleep(3)\n",
    "driver.find_element_by_xpath('//*[@id=\"CybotCookiebotDialogBodyLevelButtonLevelOptinAllowAll\"]').click()\n",
    "html=driver.page_source\n",
    "driver.close()"
   ]
  },
  {
   "cell_type": "code",
   "execution_count": 43,
   "metadata": {},
   "outputs": [],
   "source": [
    "soup=bs(html, 'html.parser')\n",
    "product_names= [name.text.split(' - ')[0] for name in soup.find_all('span', class_='product-title__text')]\n",
    "product_category= [cat.text for cat in soup.find_all('span', class_='product-row__genre')]\n",
    "release_year= [y.text for y in soup.find_all('span', class_='product-row__date')]\n",
    "original_price= [op.text for op in soup.find_all('s', class_='product-row-price--old')]\n",
    "disc_price= [dp.text for dp in soup.find_all('b', class_='product-row-price--new')]"
   ]
  },
  {
   "cell_type": "code",
   "execution_count": 44,
   "metadata": {},
   "outputs": [],
   "source": [
    "discounts_df= pd.DataFrame({'game': product_names,\n",
    "                            'cat': product_category,\n",
    "                            'r_year': release_year,\n",
    "                            'price': original_price,\n",
    "                            'disc_price': disc_price})\n",
    "\n",
    "discounts_df['r_year'] = discounts_df['r_year'].astype('int')\n",
    "discounts_df['price'] = discounts_df['price'].astype('float')\n",
    "discounts_df['disc_price'] = discounts_df['disc_price'].astype('float')\n",
    "discounts_df['pct_discounted'] = round((discounts_df['price']-discounts_df['disc_price'])/discounts_df['price']*100,0).astype('int')"
   ]
  },
  {
   "cell_type": "code",
   "execution_count": 68,
   "metadata": {},
   "outputs": [],
   "source": [
    "discounts_df['game'].iloc[1] = discounts_df['game'].iloc[1].replace('2', 'II')"
   ]
  },
  {
   "cell_type": "code",
   "execution_count": 75,
   "metadata": {},
   "outputs": [],
   "source": [
    "url_games = []\n",
    "\n",
    "for game in discounts_df['game']:\n",
    "    url_games.append(f\"https://www.metacritic.com/game/pc/{game.replace(':', '').replace(' - ', '-').replace(' ', '-').lower()}\")"
   ]
  },
  {
   "cell_type": "code",
   "execution_count": 112,
   "metadata": {},
   "outputs": [],
   "source": [
    "user_scores=[]\n",
    "user_ratings=[]\n",
    "\n",
    "for game in url_games:\n",
    "    try:\n",
    "        url=game\n",
    "        html=r.get(url, headers=headers).text\n",
    "        soup=bs(html, 'html.parser')\n",
    "        user_score=soup.find('div', class_='userscore_wrap feature_userscore')\n",
    "        user_scores.append(user_score.find_all('div')[1].text)\n",
    "        user_ratings.append(int(user_score.find('span', class_='count').find('a').text.split(' ')[0]))\n",
    "    except:\n",
    "        user_scores.append(-1)\n",
    "        user_ratings.append(-1)"
   ]
  },
  {
   "cell_type": "code",
   "execution_count": 113,
   "metadata": {},
   "outputs": [],
   "source": [
    "discounts_df['user_score']=user_scores\n",
    "discounts_df['review_number']=user_ratings\n",
    "discounts_df.head()"
   ]
  }
 ],
 "metadata": {
  "kernelspec": {
   "display_name": "Python 3",
   "language": "python",
   "name": "python3"
  },
  "language_info": {
   "codemirror_mode": {
    "name": "ipython",
    "version": 3
   },
   "file_extension": ".py",
   "mimetype": "text/x-python",
   "name": "python",
   "nbconvert_exporter": "python",
   "pygments_lexer": "ipython3",
   "version": "3.8.8"
  }
 },
 "nbformat": 4,
 "nbformat_minor": 4
}
