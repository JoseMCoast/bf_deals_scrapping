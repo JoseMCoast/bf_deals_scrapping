{
 "cells": [
  {
   "cell_type": "code",
   "execution_count": 87,
   "metadata": {},
   "outputs": [],
   "source": [
    "import pandas as pd\n",
    "import requests as r\n",
    "import time\n",
    "\n",
    "from bs4 import BeautifulSoup as bs\n",
    "from selenium import webdriver\n",
    "from webdriver_manager.chrome import ChromeDriverManager\n",
    "from selenium.webdriver.common.by import By\n",
    "from selenium.webdriver.support.ui import WebDriverWait\n",
    "from selenium.webdriver.support import expected_conditions as EC\n",
    "from selenium.webdriver import ActionChains as AC"
   ]
  },
  {
   "cell_type": "code",
   "execution_count": 16,
   "metadata": {},
   "outputs": [
    {
     "name": "stderr",
     "output_type": "stream",
     "text": [
      "/home/jmc/anaconda3/lib/python3.7/site-packages/ipykernel_launcher.py:2: DeprecationWarning: executable_path has been deprecated, please pass in a Service object\n",
      "  \n",
      "/home/jmc/anaconda3/lib/python3.7/site-packages/ipykernel_launcher.py:5: DeprecationWarning: find_element_by_* commands are deprecated. Please use find_element() instead\n",
      "  \"\"\"\n"
     ]
    }
   ],
   "source": [
    "url='https://www.gog.com/promo/black_friday_2021_rpg'\n",
    "\n",
    "driver=webdriver.Chrome(PATH)\n",
    "driver.get(url)\n",
    "time.sleep(3)\n",
    "driver.find_element_by_xpath('//*[@id=\"CybotCookiebotDialogBodyLevelButtonLevelOptinAllowAll\"]').click()\n",
    "html=driver.page_source\n",
    "driver.close()"
   ]
  },
  {
   "cell_type": "code",
   "execution_count": 56,
   "metadata": {},
   "outputs": [],
   "source": [
    "soup=bs(html, 'html.parser')\n",
    "product_names= [name.text for name in soup.find_all('span', class_='product-title__text')]\n",
    "product_category= [cat.text for cat in soup.find_all('span', class_='product-row__genre')]\n",
    "release_year= [y.text for y in soup.find_all('span', class_='product-row__date')]\n",
    "original_price= [op.text for op in soup.find_all('s', class_='product-row-price--old')]\n",
    "disc_price= [dp.text for dp in soup.find_all('b', class_='product-row-price--new')]"
   ]
  },
  {
   "cell_type": "code",
   "execution_count": 74,
   "metadata": {},
   "outputs": [],
   "source": [
    "discounts_df= pd.DataFrame({'game': product_names,\n",
    "                            'cat': product_category,\n",
    "                            'r_year': release_year,\n",
    "                            'price': original_price,\n",
    "                            'disc_price': disc_price})\n",
    "\n",
    "discounts_df['r_year'] = discounts_df['r_year'].astype('int')\n",
    "discounts_df['price'] = discounts_df['price'].astype('float')\n",
    "discounts_df['disc_price'] = discounts_df['disc_price'].astype('float')\n",
    "discounts_df['pct_discounted'] = round((discounts_df['price']-discounts_df['disc_price'])/discounts_df['price']*100,0).astype('int')"
   ]
  },
  {
   "cell_type": "code",
   "execution_count": 77,
   "metadata": {},
   "outputs": [
    {
     "data": {
      "text/html": [
       "<div>\n",
       "<style scoped>\n",
       "    .dataframe tbody tr th:only-of-type {\n",
       "        vertical-align: middle;\n",
       "    }\n",
       "\n",
       "    .dataframe tbody tr th {\n",
       "        vertical-align: top;\n",
       "    }\n",
       "\n",
       "    .dataframe thead th {\n",
       "        text-align: right;\n",
       "    }\n",
       "</style>\n",
       "<table border=\"1\" class=\"dataframe\">\n",
       "  <thead>\n",
       "    <tr style=\"text-align: right;\">\n",
       "      <th></th>\n",
       "      <th>game</th>\n",
       "      <th>cat</th>\n",
       "      <th>r_year</th>\n",
       "      <th>price</th>\n",
       "      <th>disc_price</th>\n",
       "      <th>pct_discounted</th>\n",
       "    </tr>\n",
       "  </thead>\n",
       "  <tbody>\n",
       "    <tr>\n",
       "      <td>0</td>\n",
       "      <td>Cyberpunk 2077</td>\n",
       "      <td>Role-playing</td>\n",
       "      <td>2020</td>\n",
       "      <td>59.99</td>\n",
       "      <td>29.99</td>\n",
       "      <td>50</td>\n",
       "    </tr>\n",
       "    <tr>\n",
       "      <td>1</td>\n",
       "      <td>Divinity: Original Sin 2 - Definitive Edition</td>\n",
       "      <td>Role-playing</td>\n",
       "      <td>2017</td>\n",
       "      <td>44.99</td>\n",
       "      <td>17.99</td>\n",
       "      <td>60</td>\n",
       "    </tr>\n",
       "    <tr>\n",
       "      <td>2</td>\n",
       "      <td>Disco Elysium - The Final Cut</td>\n",
       "      <td>Role-playing</td>\n",
       "      <td>2019</td>\n",
       "      <td>39.99</td>\n",
       "      <td>19.99</td>\n",
       "      <td>50</td>\n",
       "    </tr>\n",
       "    <tr>\n",
       "      <td>3</td>\n",
       "      <td>Pillars of Eternity II: Deadfire - Obsidian Ed...</td>\n",
       "      <td>Role-playing</td>\n",
       "      <td>2018</td>\n",
       "      <td>59.99</td>\n",
       "      <td>15.00</td>\n",
       "      <td>75</td>\n",
       "    </tr>\n",
       "    <tr>\n",
       "      <td>4</td>\n",
       "      <td>Baldur's Gate II: Enhanced Edition</td>\n",
       "      <td>Role-playing</td>\n",
       "      <td>2013</td>\n",
       "      <td>17.79</td>\n",
       "      <td>3.59</td>\n",
       "      <td>80</td>\n",
       "    </tr>\n",
       "  </tbody>\n",
       "</table>\n",
       "</div>"
      ],
      "text/plain": [
       "                                                game           cat  r_year  \\\n",
       "0                                     Cyberpunk 2077  Role-playing    2020   \n",
       "1      Divinity: Original Sin 2 - Definitive Edition  Role-playing    2017   \n",
       "2                      Disco Elysium - The Final Cut  Role-playing    2019   \n",
       "3  Pillars of Eternity II: Deadfire - Obsidian Ed...  Role-playing    2018   \n",
       "4                 Baldur's Gate II: Enhanced Edition  Role-playing    2013   \n",
       "\n",
       "   price  disc_price  pct_discounted  \n",
       "0  59.99       29.99              50  \n",
       "1  44.99       17.99              60  \n",
       "2  39.99       19.99              50  \n",
       "3  59.99       15.00              75  \n",
       "4  17.79        3.59              80  "
      ]
     },
     "execution_count": 77,
     "metadata": {},
     "output_type": "execute_result"
    }
   ],
   "source": [
    "discounts_df.head()"
   ]
  },
  {
   "cell_type": "code",
   "execution_count": 112,
   "metadata": {},
   "outputs": [
    {
     "name": "stdout",
     "output_type": "stream",
     "text": [
      "https://www.metacritic.com/game/pc/cyberpunk-2077\n",
      "https://www.metacritic.com/game/pc/divinity:-original-sin-2-definitive-edition\n",
      "https://www.metacritic.com/game/pc/disco-elysium-the-final-cut\n",
      "https://www.metacritic.com/game/pc/pillars-of-eternity-ii:-deadfire-obsidian-edition\n",
      "https://www.metacritic.com/game/pc/baldur's-gate-ii:-enhanced-edition\n",
      "https://www.metacritic.com/game/pc/greedfall\n",
      "https://www.metacritic.com/game/pc/neverwinter-nights:-enhanced-edition-digital-deluxe-edition\n",
      "https://www.metacritic.com/game/pc/dysmantle\n",
      "https://www.metacritic.com/game/pc/pathfinder:-wrath-of-the-righteous-core-edition\n",
      "https://www.metacritic.com/game/pc/the-elder-scrolls-iii:-morrowind-goty-edition\n",
      "https://www.metacritic.com/game/pc/fallout:-new-vegas-ultimate-edition\n",
      "https://www.metacritic.com/game/pc/warhammer:-chaosbane-slayer-edition\n",
      "https://www.metacritic.com/game/pc/mount-&-blade-ii:-bannerlord\n",
      "https://www.metacritic.com/game/pc/dragon-age™:-origins-ultimate-edition\n",
      "https://www.metacritic.com/game/pc/wasteland-3\n",
      "https://www.metacritic.com/game/pc/gothic\n",
      "https://www.metacritic.com/game/pc/vaporum\n",
      "https://www.metacritic.com/game/pc/stoneshard\n",
      "https://www.metacritic.com/game/pc/vikings-wolves-of-midgard\n",
      "https://www.metacritic.com/game/pc/arcanum:-of-steamworks-and-magick-obscura\n",
      "https://www.metacritic.com/game/pc/the-witcher-3:-wild-hunt-game-of-the-year-edition\n",
      "https://www.metacritic.com/game/pc/pathfinder:-kingmaker-imperial-edition-bundle\n",
      "https://www.metacritic.com/game/pc/star-wars™-knights-of-the-old-republic™-ii:-the-sith-lords™\n",
      "https://www.metacritic.com/game/pc/system-shock™-2\n",
      "https://www.metacritic.com/game/pc/shadowrun-trilogy\n",
      "https://www.metacritic.com/game/pc/tyranny-gold-edition\n",
      "https://www.metacritic.com/game/pc/haven\n",
      "https://www.metacritic.com/game/pc/darkest-dungeon®\n",
      "https://www.metacritic.com/game/pc/the-legend-of-heroes:-trails-of-cold-steel-iv\n",
      "https://www.metacritic.com/game/pc/ys-viii:-lacrimosa-of-dana\n",
      "https://www.metacritic.com/game/pc/the-legend-of-heroes:-trails-in-the-sky\n",
      "https://www.metacritic.com/game/pc/super-neptunia-rpg\n",
      "https://www.metacritic.com/game/pc/deus-ex™-goty-edition\n",
      "https://www.metacritic.com/game/pc/deus-ex:-human-revolution-director’s-cut\n",
      "https://www.metacritic.com/game/pc/dex\n",
      "https://www.metacritic.com/game/pc/kingdoms-of-amalur:-re-reckoning\n",
      "https://www.metacritic.com/game/pc/gamedec\n",
      "https://www.metacritic.com/game/pc/drakensang\n",
      "https://www.metacritic.com/game/pc/solasta:-crown-of-the-magister\n",
      "https://www.metacritic.com/game/pc/vagrus-the-riven-realms\n",
      "https://www.metacritic.com/game/pc/encased:-a-sci-fi-post-apocalyptic-rpg\n",
      "https://www.metacritic.com/game/pc/vampire®:-the-masquerade-bloodlines™\n",
      "https://www.metacritic.com/game/pc/legend-of-grimrock-2\n",
      "https://www.metacritic.com/game/pc/atom-rpg:-post-apocalyptic-indie-game\n",
      "https://www.metacritic.com/game/pc/the-life-and-suffering-of-sir-brante\n",
      "https://www.metacritic.com/game/pc/outward\n",
      "https://www.metacritic.com/game/pc/avernum-3:-ruined-world\n",
      "https://www.metacritic.com/game/pc/trials-of-fire\n",
      "https://www.metacritic.com/game/pc/the-quest\n",
      "https://www.metacritic.com/game/pc/queen's-wish:-the-conqueror\n"
     ]
    }
   ],
   "source": [
    "score = []\n",
    "\n",
    "for game in discounts_df['game']:\n",
    "    print(f\"https://www.metacritic.com/game/pc/{game.replace(' - ', '-').replace(' ', '-').lower()}\")"
   ]
  },
  {
   "cell_type": "code",
   "execution_count": 148,
   "metadata": {},
   "outputs": [],
   "source": [
    "game_scores = []\n",
    "headers = {'User-Agent': 'Mozilla/5.0 (Windows NT 6.1; WOW64) AppleWebKit/537.36 (KHTML, like Gecko) Chrome/56.0.2924.76 Safari/537.36'}\n",
    "\n",
    "for game in discounts_df['game']:\n",
    "    \n",
    "    url = f\"https://www.metacritic.com/game/pc/{game.replace(' - ', '-').replace(' ', '-').lower()}\"\n",
    "\n",
    "    try:\n",
    "        html=r.get(url, headers).text\n",
    "        soup=bs(html, 'html.parser')\n",
    "        user_score=soup.find('div', class_='userscore_wrap feature_userscore')\n",
    "        game_scores.append(user_score.find_all('div')[1].text)\n",
    "        \n",
    "    except:\n",
    "        continue"
   ]
  },
  {
   "cell_type": "code",
   "execution_count": 149,
   "metadata": {},
   "outputs": [
    {
     "data": {
      "text/plain": [
       "[]"
      ]
     },
     "execution_count": 149,
     "metadata": {},
     "output_type": "execute_result"
    }
   ],
   "source": [
    "game_scores"
   ]
  },
  {
   "cell_type": "code",
   "execution_count": 141,
   "metadata": {},
   "outputs": [],
   "source": [
    "url=\"https://www.metacritic.com/game/pc/cyberpunk-2077\"\n",
    "html=r.get(url, headers=headers).text\n",
    "soup=bs(html, 'html.parser')\n",
    "user_score=soup.find('div', class_='userscore_wrap feature_userscore')"
   ]
  },
  {
   "cell_type": "code",
   "execution_count": 147,
   "metadata": {},
   "outputs": [
    {
     "data": {
      "text/plain": [
       "'7.1'"
      ]
     },
     "execution_count": 147,
     "metadata": {},
     "output_type": "execute_result"
    }
   ],
   "source": [
    "user_score.find_all('div')[1].text"
   ]
  },
  {
   "cell_type": "code",
   "execution_count": null,
   "metadata": {},
   "outputs": [],
   "source": []
  }
 ],
 "metadata": {
  "kernelspec": {
   "display_name": "Python 3",
   "language": "python",
   "name": "python3"
  },
  "language_info": {
   "codemirror_mode": {
    "name": "ipython",
    "version": 3
   },
   "file_extension": ".py",
   "mimetype": "text/x-python",
   "name": "python",
   "nbconvert_exporter": "python",
   "pygments_lexer": "ipython3",
   "version": "3.7.4"
  }
 },
 "nbformat": 4,
 "nbformat_minor": 4
}
